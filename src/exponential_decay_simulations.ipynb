{
 "cells": [
  {
   "cell_type": "code",
   "execution_count": 1,
   "metadata": {},
   "outputs": [
    {
     "data": {
      "text/plain": [
       "true"
      ]
     },
     "metadata": {},
     "output_type": "display_data"
    }
   ],
   "source": [
    "using DataFrames,PythonPlot,StatsBase,Random,Distributions\n",
    "PythonPlot.svg(true)"
   ]
  },
  {
   "cell_type": "code",
   "execution_count": 2,
   "metadata": {},
   "outputs": [
    {
     "ename": "UndefVarError",
     "evalue": "UndefVarError: `find_zero` not defined in `Main`\nSuggestion: check for spelling errors or missing imports.",
     "output_type": "error",
     "traceback": [
      "UndefVarError: `find_zero` not defined in `Main`\n",
      "Suggestion: check for spelling errors or missing imports.\n",
      "\n",
      "Stacktrace:\n",
      " [1] simulate_division(Y0::Float64, n_divisions::Int64)\n",
      "   @ Main ~/Dartmouth College Dropbox/Ethan Levien/RESEARCH/cell-size/coarse_graining/GrowthCycleModel/src/jl_notebook_cell_df34fa98e69747e1a8f8a730347b8e2f_W1sZmlsZQ==.jl:38\n",
      " [2] top-level scope\n",
      "   @ ~/Dartmouth College Dropbox/Ethan Levien/RESEARCH/cell-size/coarse_graining/GrowthCycleModel/src/jl_notebook_cell_df34fa98e69747e1a8f8a730347b8e2f_W1sZmlsZQ==.jl:49"
     ]
    }
   ],
   "source": [
    "# Parameters\n",
    "lambda_0 = 1.0          # Baseline growth rate\n",
    "sigma_lambda = 0.2      # Standard deviation of growth fluctuations\n",
    "gamma = 0.5             # Growth rate relaxation parameter\n",
    "nu_0 = 0.5              # Baseline cell-cycle progression parameter\n",
    "sigma_nu = 0.1          # Standard deviation of nu fluctuations\n",
    "kappa = 0.3             # Relaxation parameter for nu\n",
    "beta = 0.2              # Coupling parameter for size correction\n",
    "Y0 = 0.0                # Initial log size\n",
    "n_divisions = 100       # Number of cell divisions to simulate\n",
    "\n",
    "# Functions\n",
    "delta_lambda() = rand(Normal(0, sigma_lambda))\n",
    "delta_nu() = rand(Normal(0, sigma_nu))\n",
    "\n",
    "function simulate_division(Y0, n_divisions)\n",
    "    Y = [Y0]\n",
    "    nu_values = []\n",
    "    \n",
    "    for k in 1:n_divisions\n",
    "        # Random initial fluctuations\n",
    "        del_lambda = delta_lambda()\n",
    "        del_nu = delta_nu()\n",
    "        \n",
    "        # Growth rate dynamics\n",
    "        lambda_t(t) = (lambda_0 + del_lambda) * exp(-gamma * t) + lambda_0 * (1 - exp(-gamma * t))\n",
    "        L_t(t) = lambda_0 * t + del_lambda * (1 - exp(-gamma * t)) / gamma\n",
    "        \n",
    "        # Nu dynamics\n",
    "        nu_t(t) = (nu_0 + del_nu) * exp(-kappa * t) + (nu_0 + beta * Y[end]) * (1 - exp(-kappa * t))\n",
    "        \n",
    "        # Solve for τ using θ(τ) = 1\n",
    "        function theta_eq(t)\n",
    "            integral_nu_lambda = quadgk(s -> nu_t(s) * lambda_t(s), 0, t)[1]\n",
    "            return integral_nu_lambda - 1\n",
    "        end\n",
    "        \n",
    "        tau = find_zero(theta_eq, (0.01, 10.0))  # Solve for τ numerically\n",
    "        \n",
    "        # Compute new final size\n",
    "        Yf = Y[end] + L_t(tau)\n",
    "        push!(Y, Yf)\n",
    "        push!(nu_values, 1 / (Yf - Y[end] + log(2)))\n",
    "    end\n",
    "    return Y, nu_values\n",
    "end\n",
    "\n",
    "# Run simulation\n",
    "Y_vals, nu_vals = simulate_division(Y0, n_divisions)"
   ]
  },
  {
   "cell_type": "code",
   "execution_count": 5,
   "metadata": {},
   "outputs": [
    {
     "data": {
      "text/plain": [
       "(γ = 1, κ = 1, λ0 = 1, ν0 = 1, σλ = 0.1, σν = 0.1, β = 1)"
      ]
     },
     "metadata": {},
     "output_type": "display_data"
    }
   ],
   "source": [
    "params = (γ=1,κ=1,λ0=1,ν0=1,σλ=0.1,σν=0.1,β=1)"
   ]
  },
  {
   "cell_type": "code",
   "execution_count": null,
   "metadata": {},
   "outputs": [],
   "source": []
  }
 ],
 "metadata": {
  "kernelspec": {
   "display_name": "Julia 1.11.2",
   "language": "julia",
   "name": "julia-1.11"
  },
  "language_info": {
   "file_extension": ".jl",
   "mimetype": "application/julia",
   "name": "julia",
   "version": "1.11.2"
  }
 },
 "nbformat": 4,
 "nbformat_minor": 2
}

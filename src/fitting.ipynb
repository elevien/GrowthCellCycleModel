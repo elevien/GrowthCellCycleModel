{
 "cells": [
  {
   "cell_type": "code",
   "execution_count": 11,
   "metadata": {},
   "outputs": [
    {
     "data": {
      "text/plain": [
       "\"/Users/elevien/Dartmouth College Dropbox/Ethan Levien/RESEARCH/ACTIVE/cell-size/linear_model/figures\""
      ]
     },
     "metadata": {},
     "output_type": "display_data"
    }
   ],
   "source": [
    "using DataFrames,PythonPlot,StatsBase,Random,Distributions,CSV,DSP,LinearAlgebra\n",
    "PythonPlot.svg(true)\n",
    "include(\"model.jl\")\n",
    "include(\"process_mm_data.jl\")\n",
    "\n",
    "FIG_PATH = \"/Users/elevien/Dartmouth College Dropbox/Ethan Levien/RESEARCH/ACTIVE/cell-size/linear_model/figures\""
   ]
  },
  {
   "cell_type": "code",
   "execution_count": 12,
   "metadata": {},
   "outputs": [],
   "source": [
    "# make dataframe from CSV file\n",
    "DATA_PATH = \"./data/MC4100_25C\"\n",
    "data_mm = [CSV.read(DATA_PATH*\"/\"*f,DataFrame,header=string.([\"row\",\"div\",\"length\",\"x\",\"z\"])) for f in readdir(DATA_PATH)]\n",
    "data_mm = vcat([hcat(data_mm[i],DataFrame(:lineage=>i*ones(length(data_mm[i][:,1])))) for i in eachindex(data_mm)]...)\n",
    "data_mm = combine(groupby(data_mm,:lineage),:div => cumsum => :n,names(data_mm));\n",
    "data_mm = process_lineage(data_mm)\n",
    "\n",
    "   # Generate cell-level statistics\n",
    "dfcell_mm = combine(groupby(data_mm,[:lineage,:cell]),\n",
    "   :z0 => (x -> x[1]) => :z0,\n",
    "   :time => (x -> x[end]-x[1]) => :τ,\n",
    "   :Y => (x -> x[end] - x[1]) => :ϕ\n",
    ");\n",
    "\n",
    "dfcell_mm.λ = dfcell_mm.ϕ ./ dfcell_mm.τ\n",
    "dfcell_mm.τ = dfcell_mm.τ ./  mean(dfcell_mm.τ);"
   ]
  },
  {
   "cell_type": "code",
   "execution_count": 13,
   "metadata": {},
   "outputs": [
    {
     "data": {
      "text/html": [
       "<div><div style = \"float: left;\"><span>4550×6 DataFrame</span></div><div style = \"float: right;\"><span style = \"font-style: italic;\">4525 rows omitted</span></div><div style = \"clear: both;\"></div></div><div class = \"data-frame\" style = \"overflow-x: scroll;\"><table class = \"data-frame\" style = \"margin-bottom: 6px;\"><thead><tr class = \"header\"><th class = \"rowNumber\" style = \"font-weight: bold; text-align: right;\">Row</th><th style = \"text-align: left;\">lineage</th><th style = \"text-align: left;\">cell</th><th style = \"text-align: left;\">z0</th><th style = \"text-align: left;\">τ</th><th style = \"text-align: left;\">ϕ</th><th style = \"text-align: left;\">λ</th></tr><tr class = \"subheader headerLastRow\"><th class = \"rowNumber\" style = \"font-weight: bold; text-align: right;\"></th><th title = \"Float64\" style = \"text-align: left;\">Float64</th><th title = \"Int64\" style = \"text-align: left;\">Int64</th><th title = \"Float64\" style = \"text-align: left;\">Float64</th><th title = \"Float64\" style = \"text-align: left;\">Float64</th><th title = \"Float64\" style = \"text-align: left;\">Float64</th><th title = \"Float64\" style = \"text-align: left;\">Float64</th></tr></thead><tbody><tr><td class = \"rowNumber\" style = \"font-weight: bold; text-align: right;\">1</td><td style = \"text-align: right;\">1.0</td><td style = \"text-align: right;\">1</td><td style = \"text-align: right;\">0.422715</td><td style = \"text-align: right;\">1.06459</td><td style = \"text-align: right;\">0.859798</td><td style = \"text-align: right;\">0.0121098</td></tr><tr><td class = \"rowNumber\" style = \"font-weight: bold; text-align: right;\">2</td><td style = \"text-align: right;\">1.0</td><td style = \"text-align: right;\">2</td><td style = \"text-align: right;\">0.561414</td><td style = \"text-align: right;\">0.914651</td><td style = \"text-align: right;\">0.705071</td><td style = \"text-align: right;\">0.0115585</td></tr><tr><td class = \"rowNumber\" style = \"font-weight: bold; text-align: right;\">3</td><td style = \"text-align: right;\">1.0</td><td style = \"text-align: right;\">3</td><td style = \"text-align: right;\">0.323003</td><td style = \"text-align: right;\">1.09458</td><td style = \"text-align: right;\">0.944634</td><td style = \"text-align: right;\">0.0129402</td></tr><tr><td class = \"rowNumber\" style = \"font-weight: bold; text-align: right;\">4</td><td style = \"text-align: right;\">1.0</td><td style = \"text-align: right;\">4</td><td style = \"text-align: right;\">0.517173</td><td style = \"text-align: right;\">1.03461</td><td style = \"text-align: right;\">0.785685</td><td style = \"text-align: right;\">0.0113867</td></tr><tr><td class = \"rowNumber\" style = \"font-weight: bold; text-align: right;\">5</td><td style = \"text-align: right;\">1.0</td><td style = \"text-align: right;\">5</td><td style = \"text-align: right;\">0.470022</td><td style = \"text-align: right;\">1.12457</td><td style = \"text-align: right;\">0.900384</td><td style = \"text-align: right;\">0.0120051</td></tr><tr><td class = \"rowNumber\" style = \"font-weight: bold; text-align: right;\">6</td><td style = \"text-align: right;\">1.0</td><td style = \"text-align: right;\">6</td><td style = \"text-align: right;\">0.544084</td><td style = \"text-align: right;\">1.15456</td><td style = \"text-align: right;\">1.02944</td><td style = \"text-align: right;\">0.0133694</td></tr><tr><td class = \"rowNumber\" style = \"font-weight: bold; text-align: right;\">7</td><td style = \"text-align: right;\">1.0</td><td style = \"text-align: right;\">7</td><td style = \"text-align: right;\">0.589685</td><td style = \"text-align: right;\">1.06459</td><td style = \"text-align: right;\">0.708207</td><td style = \"text-align: right;\">0.00997475</td></tr><tr><td class = \"rowNumber\" style = \"font-weight: bold; text-align: right;\">8</td><td style = \"text-align: right;\">1.0</td><td style = \"text-align: right;\">8</td><td style = \"text-align: right;\">0.53992</td><td style = \"text-align: right;\">1.0496</td><td style = \"text-align: right;\">0.813016</td><td style = \"text-align: right;\">0.0116145</td></tr><tr><td class = \"rowNumber\" style = \"font-weight: bold; text-align: right;\">9</td><td style = \"text-align: right;\">1.0</td><td style = \"text-align: right;\">9</td><td style = \"text-align: right;\">0.600686</td><td style = \"text-align: right;\">0.854674</td><td style = \"text-align: right;\">0.685105</td><td style = \"text-align: right;\">0.0120194</td></tr><tr><td class = \"rowNumber\" style = \"font-weight: bold; text-align: right;\">10</td><td style = \"text-align: right;\">1.0</td><td style = \"text-align: right;\">10</td><td style = \"text-align: right;\">0.441431</td><td style = \"text-align: right;\">1.67936</td><td style = \"text-align: right;\">1.32852</td><td style = \"text-align: right;\">0.0118618</td></tr><tr><td class = \"rowNumber\" style = \"font-weight: bold; text-align: right;\">11</td><td style = \"text-align: right;\">1.0</td><td style = \"text-align: right;\">11</td><td style = \"text-align: right;\">0.958001</td><td style = \"text-align: right;\">0.764708</td><td style = \"text-align: right;\">0.507401</td><td style = \"text-align: right;\">0.00994903</td></tr><tr><td class = \"rowNumber\" style = \"font-weight: bold; text-align: right;\">12</td><td style = \"text-align: right;\">1.0</td><td style = \"text-align: right;\">12</td><td style = \"text-align: right;\">0.870012</td><td style = \"text-align: right;\">0.884663</td><td style = \"text-align: right;\">0.676999</td><td style = \"text-align: right;\">0.0114746</td></tr><tr><td class = \"rowNumber\" style = \"font-weight: bold; text-align: right;\">13</td><td style = \"text-align: right;\">1.0</td><td style = \"text-align: right;\">13</td><td style = \"text-align: right;\">0.771995</td><td style = \"text-align: right;\">1.10958</td><td style = \"text-align: right;\">0.739322</td><td style = \"text-align: right;\">0.00999084</td></tr><tr><td style = \"text-align: right;\">&vellip;</td><td style = \"text-align: right;\">&vellip;</td><td style = \"text-align: right;\">&vellip;</td><td style = \"text-align: right;\">&vellip;</td><td style = \"text-align: right;\">&vellip;</td><td style = \"text-align: right;\">&vellip;</td><td style = \"text-align: right;\">&vellip;</td></tr><tr><td class = \"rowNumber\" style = \"font-weight: bold; text-align: right;\">4539</td><td style = \"text-align: right;\">65.0</td><td style = \"text-align: right;\">4539</td><td style = \"text-align: right;\">0.441431</td><td style = \"text-align: right;\">0.929646</td><td style = \"text-align: right;\">0.808299</td><td style = \"text-align: right;\">0.0130371</td></tr><tr><td class = \"rowNumber\" style = \"font-weight: bold; text-align: right;\">4540</td><td style = \"text-align: right;\">65.0</td><td style = \"text-align: right;\">4540</td><td style = \"text-align: right;\">0.348704</td><td style = \"text-align: right;\">1.07959</td><td style = \"text-align: right;\">0.84321</td><td style = \"text-align: right;\">0.0117113</td></tr><tr><td class = \"rowNumber\" style = \"font-weight: bold; text-align: right;\">4541</td><td style = \"text-align: right;\">65.0</td><td style = \"text-align: right;\">4541</td><td style = \"text-align: right;\">0.399481</td><td style = \"text-align: right;\">1.12457</td><td style = \"text-align: right;\">0.831995</td><td style = \"text-align: right;\">0.0110933</td></tr><tr><td class = \"rowNumber\" style = \"font-weight: bold; text-align: right;\">4542</td><td style = \"text-align: right;\">65.0</td><td style = \"text-align: right;\">4542</td><td style = \"text-align: right;\">0.44366</td><td style = \"text-align: right;\">1.01961</td><td style = \"text-align: right;\">0.87116</td><td style = \"text-align: right;\">0.0128112</td></tr><tr><td class = \"rowNumber\" style = \"font-weight: bold; text-align: right;\">4543</td><td style = \"text-align: right;\">65.0</td><td style = \"text-align: right;\">4543</td><td style = \"text-align: right;\">0.427657</td><td style = \"text-align: right;\">0.959634</td><td style = \"text-align: right;\">0.898481</td><td style = \"text-align: right;\">0.0140388</td></tr><tr><td class = \"rowNumber\" style = \"font-weight: bold; text-align: right;\">4544</td><td style = \"text-align: right;\">65.0</td><td style = \"text-align: right;\">4544</td><td style = \"text-align: right;\">0.678972</td><td style = \"text-align: right;\">0.824686</td><td style = \"text-align: right;\">0.63854</td><td style = \"text-align: right;\">0.0116098</td></tr><tr><td class = \"rowNumber\" style = \"font-weight: bold; text-align: right;\">4545</td><td style = \"text-align: right;\">65.0</td><td style = \"text-align: right;\">4545</td><td style = \"text-align: right;\">0.553132</td><td style = \"text-align: right;\">1.28951</td><td style = \"text-align: right;\">0.946933</td><td style = \"text-align: right;\">0.0110108</td></tr><tr><td class = \"rowNumber\" style = \"font-weight: bold; text-align: right;\">4546</td><td style = \"text-align: right;\">65.0</td><td style = \"text-align: right;\">4546</td><td style = \"text-align: right;\">0.723895</td><td style = \"text-align: right;\">1.37947</td><td style = \"text-align: right;\">1.03495</td><td style = \"text-align: right;\">0.0112495</td></tr><tr><td class = \"rowNumber\" style = \"font-weight: bold; text-align: right;\">4547</td><td style = \"text-align: right;\">65.0</td><td style = \"text-align: right;\">4547</td><td style = \"text-align: right;\">1.14907</td><td style = \"text-align: right;\">0.674743</td><td style = \"text-align: right;\">0.545196</td><td style = \"text-align: right;\">0.0121155</td></tr><tr><td class = \"rowNumber\" style = \"font-weight: bold; text-align: right;\">4548</td><td style = \"text-align: right;\">65.0</td><td style = \"text-align: right;\">4548</td><td style = \"text-align: right;\">1.08578</td><td style = \"text-align: right;\">0.62976</td><td style = \"text-align: right;\">0.486982</td><td style = \"text-align: right;\">0.0115948</td></tr><tr><td class = \"rowNumber\" style = \"font-weight: bold; text-align: right;\">4549</td><td style = \"text-align: right;\">65.0</td><td style = \"text-align: right;\">4549</td><td style = \"text-align: right;\">0.580398</td><td style = \"text-align: right;\">0.869668</td><td style = \"text-align: right;\">0.704633</td><td style = \"text-align: right;\">0.0121488</td></tr><tr><td class = \"rowNumber\" style = \"font-weight: bold; text-align: right;\">4550</td><td style = \"text-align: right;\">65.0</td><td style = \"text-align: right;\">4550</td><td style = \"text-align: right;\">0.461139</td><td style = \"text-align: right;\">1.34949</td><td style = \"text-align: right;\">1.009</td><td style = \"text-align: right;\">0.0112112</td></tr></tbody></table></div>"
      ],
      "text/latex": [
       "\\begin{tabular}{r|cccccc}\n",
       "\t& lineage & cell & z0 & τ & ϕ & λ\\\\\n",
       "\t\\hline\n",
       "\t& Float64 & Int64 & Float64 & Float64 & Float64 & Float64\\\\\n",
       "\t\\hline\n",
       "\t1 & 1.0 & 1 & 0.422715 & 1.06459 & 0.859798 & 0.0121098 \\\\\n",
       "\t2 & 1.0 & 2 & 0.561414 & 0.914651 & 0.705071 & 0.0115585 \\\\\n",
       "\t3 & 1.0 & 3 & 0.323003 & 1.09458 & 0.944634 & 0.0129402 \\\\\n",
       "\t4 & 1.0 & 4 & 0.517173 & 1.03461 & 0.785685 & 0.0113867 \\\\\n",
       "\t5 & 1.0 & 5 & 0.470022 & 1.12457 & 0.900384 & 0.0120051 \\\\\n",
       "\t6 & 1.0 & 6 & 0.544084 & 1.15456 & 1.02944 & 0.0133694 \\\\\n",
       "\t7 & 1.0 & 7 & 0.589685 & 1.06459 & 0.708207 & 0.00997475 \\\\\n",
       "\t8 & 1.0 & 8 & 0.53992 & 1.0496 & 0.813016 & 0.0116145 \\\\\n",
       "\t9 & 1.0 & 9 & 0.600686 & 0.854674 & 0.685105 & 0.0120194 \\\\\n",
       "\t10 & 1.0 & 10 & 0.441431 & 1.67936 & 1.32852 & 0.0118618 \\\\\n",
       "\t11 & 1.0 & 11 & 0.958001 & 0.764708 & 0.507401 & 0.00994903 \\\\\n",
       "\t12 & 1.0 & 12 & 0.870012 & 0.884663 & 0.676999 & 0.0114746 \\\\\n",
       "\t13 & 1.0 & 13 & 0.771995 & 1.10958 & 0.739322 & 0.00999084 \\\\\n",
       "\t14 & 1.0 & 14 & 0.76851 & 0.719726 & 0.671626 & 0.0139922 \\\\\n",
       "\t15 & 1.0 & 15 & 0.689435 & 0.884663 & 0.64431 & 0.0109205 \\\\\n",
       "\t16 & 1.0 & 16 & 0.544757 & 0.94464 & 0.839948 & 0.0133325 \\\\\n",
       "\t17 & 1.0 & 17 & 0.578606 & 1.36448 & 1.0844 & 0.0119165 \\\\\n",
       "\t18 & 1.0 & 18 & 0.809422 & 0.73472 & 0.665006 & 0.0135716 \\\\\n",
       "\t19 & 1.0 & 19 & 0.620421 & 0.764708 & 0.714915 & 0.0140179 \\\\\n",
       "\t20 & 1.0 & 20 & 0.496725 & 0.809691 & 0.685754 & 0.0126991 \\\\\n",
       "\t21 & 1.0 & 21 & 0.412209 & 0.914651 & 0.837876 & 0.0137357 \\\\\n",
       "\t22 & 1.0 & 22 & 0.452253 & 1.01961 & 0.761374 & 0.0111967 \\\\\n",
       "\t23 & 1.0 & 23 & 0.507919 & 0.959634 & 0.740428 & 0.0115692 \\\\\n",
       "\t24 & 1.0 & 24 & 0.442832 & 1.06459 & 0.85517 & 0.0120446 \\\\\n",
       "\t$\\dots$ & $\\dots$ & $\\dots$ & $\\dots$ & $\\dots$ & $\\dots$ & $\\dots$ \\\\\n",
       "\\end{tabular}\n"
      ],
      "text/plain": [
       "\u001b[1m4550×6 DataFrame\u001b[0m\n",
       "\u001b[1m  Row \u001b[0m│\u001b[1m lineage \u001b[0m\u001b[1m cell  \u001b[0m\u001b[1m z0       \u001b[0m\u001b[1m τ        \u001b[0m\u001b[1m ϕ        \u001b[0m\u001b[1m λ          \u001b[0m\n",
       "      │\u001b[90m Float64 \u001b[0m\u001b[90m Int64 \u001b[0m\u001b[90m Float64  \u001b[0m\u001b[90m Float64  \u001b[0m\u001b[90m Float64  \u001b[0m\u001b[90m Float64    \u001b[0m\n",
       "──────┼──────────────────────────────────────────────────────────\n",
       "    1 │     1.0      1  0.422715  1.06459   0.859798  0.0121098\n",
       "    2 │     1.0      2  0.561414  0.914651  0.705071  0.0115585\n",
       "    3 │     1.0      3  0.323003  1.09458   0.944634  0.0129402\n",
       "    4 │     1.0      4  0.517173  1.03461   0.785685  0.0113867\n",
       "    5 │     1.0      5  0.470022  1.12457   0.900384  0.0120051\n",
       "    6 │     1.0      6  0.544084  1.15456   1.02944   0.0133694\n",
       "    7 │     1.0      7  0.589685  1.06459   0.708207  0.00997475\n",
       "    8 │     1.0      8  0.53992   1.0496    0.813016  0.0116145\n",
       "  ⋮   │    ⋮       ⋮       ⋮         ⋮         ⋮          ⋮\n",
       " 4544 │    65.0   4544  0.678972  0.824686  0.63854   0.0116098\n",
       " 4545 │    65.0   4545  0.553132  1.28951   0.946933  0.0110108\n",
       " 4546 │    65.0   4546  0.723895  1.37947   1.03495   0.0112495\n",
       " 4547 │    65.0   4547  1.14907   0.674743  0.545196  0.0121155\n",
       " 4548 │    65.0   4548  1.08578   0.62976   0.486982  0.0115948\n",
       " 4549 │    65.0   4549  0.580398  0.869668  0.704633  0.0121488\n",
       " 4550 │    65.0   4550  0.461139  1.34949   1.009     0.0112112\n",
       "\u001b[36m                                                4535 rows omitted\u001b[0m"
      ]
     },
     "metadata": {},
     "output_type": "display_data"
    }
   ],
   "source": [
    "dfcell_mm"
   ]
  },
  {
   "cell_type": "code",
   "execution_count": null,
   "metadata": {},
   "outputs": [],
   "source": []
  }
 ],
 "metadata": {
  "kernelspec": {
   "display_name": "Julia 1.11.4",
   "language": "julia",
   "name": "julia-1.11"
  },
  "language_info": {
   "file_extension": ".jl",
   "mimetype": "application/julia",
   "name": "julia",
   "version": "1.11.4"
  }
 },
 "nbformat": 4,
 "nbformat_minor": 2
}

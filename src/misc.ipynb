{
 "cells": [
  {
   "cell_type": "code",
   "execution_count": 2,
   "metadata": {},
   "outputs": [
    {
     "data": {
      "text/plain": [
       "\"/Users/elevien/Dartmouth College Dropbox/Ethan Levien/RESEARCH/ACTIVE/cell-size/linear_model/figures\""
      ]
     },
     "metadata": {},
     "output_type": "display_data"
    }
   ],
   "source": [
    "using DataFrames,PythonPlot,StatsBase,Random,Distributions,CSV,DSP,LinearAlgebra\n",
    "PythonPlot.svg(true)\n",
    "include(\"model.jl\")\n",
    "\n",
    "FIG_PATH = \"/Users/elevien/Dartmouth College Dropbox/Ethan Levien/RESEARCH/ACTIVE/cell-size/linear_model/figures\""
   ]
  },
  {
   "cell_type": "code",
   "execution_count": null,
   "metadata": {},
   "outputs": [],
   "source": [
    "function pmap(r,t,a,bz,bθ,uz)\n",
    "    A = [0.0 uz;-a -bz]\n",
    "    expm(A*t)*r + exp\n",
    "end"
   ]
  },
  {
   "cell_type": "code",
   "execution_count": null,
   "metadata": {},
   "outputs": [],
   "source": [
    "samples = 10000\n",
    "A = [-0.3 -0.0;0.0 -1.0]\n",
    "print(eigvals(A))\n",
    "u = randn(2,samples)\n",
    "b = randn(2,samples)\n",
    "evals = [max(real.(eigvals([0.0 u[:,i]'; b[:,i] A]))...) for i in 1:samples]\n",
    "prods = [-(u[:,i])'*inv(A)*b[:,i] for i in 1:samples];\n",
    "\n",
    "fig,ax = subplots(figsize=(3,3))\n",
    "\n",
    "ax.plot(prods,evals,\".\")\n",
    "xrng = minimum(prods):0.01:maximum(prods)\n",
    "ax.plot(xrng,-real.(1 .- sqrt.(Complex.(1 .+ 4 .* xrng)))/2,\"k--\")\n",
    "ax.fill_between(xrng,-ones(length(xrng)),zeros(length(xrng)),color=\"gray\",alpha=0.3,lw=0)\n",
    "ax.fill_betweenx(xrng,-ones(length(xrng)),zeros(length(xrng)),color=\"C1\",alpha=0.05,lw=0)\n",
    "ax.set_xlim([-0.5,0.5])\n",
    "ax.set_ylim([-0.6,0.5])\n",
    "fig"
   ]
  }
 ],
 "metadata": {
  "kernelspec": {
   "display_name": "Julia 1.11.4",
   "language": "julia",
   "name": "julia-1.11"
  },
  "language_info": {
   "file_extension": ".jl",
   "mimetype": "application/julia",
   "name": "julia",
   "version": "1.11.4"
  }
 },
 "nbformat": 4,
 "nbformat_minor": 2
}
